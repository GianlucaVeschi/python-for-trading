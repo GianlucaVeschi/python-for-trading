{
 "cells": [
  {
   "cell_type": "code",
   "execution_count": 1,
   "id": "9a8b4a28",
   "metadata": {},
   "outputs": [],
   "source": [
    "# Functions"
   ]
  },
  {
   "cell_type": "code",
   "execution_count": 3,
   "id": "55e15070",
   "metadata": {},
   "outputs": [],
   "source": [
    "def my_func():\n",
    "    print(\"hello\")"
   ]
  },
  {
   "cell_type": "code",
   "execution_count": 4,
   "id": "e2291113",
   "metadata": {},
   "outputs": [
    {
     "name": "stdout",
     "output_type": "stream",
     "text": [
      "hello\n"
     ]
    }
   ],
   "source": [
    "my_func()"
   ]
  },
  {
   "cell_type": "code",
   "execution_count": 5,
   "id": "9b274a44",
   "metadata": {},
   "outputs": [],
   "source": [
    "def my_func(param):\n",
    "    print(\"hello {}\".format(param))"
   ]
  },
  {
   "cell_type": "code",
   "execution_count": 6,
   "id": "4e951e2f",
   "metadata": {},
   "outputs": [
    {
     "name": "stdout",
     "output_type": "stream",
     "text": [
      "hello gianluca\n"
     ]
    }
   ],
   "source": [
    "my_func(\"gianluca\")"
   ]
  },
  {
   "cell_type": "code",
   "execution_count": 7,
   "id": "df64600c",
   "metadata": {},
   "outputs": [],
   "source": [
    "def my_func(param = \"default\"):\n",
    "    print(\"hello {}\".format(param))"
   ]
  },
  {
   "cell_type": "code",
   "execution_count": 8,
   "id": "da8bd1e5",
   "metadata": {},
   "outputs": [
    {
     "name": "stdout",
     "output_type": "stream",
     "text": [
      "hello default\n"
     ]
    }
   ],
   "source": [
    "my_func()\n"
   ]
  },
  {
   "cell_type": "code",
   "execution_count": 9,
   "id": "796e3572",
   "metadata": {},
   "outputs": [],
   "source": [
    "def my_func(argument):\n",
    "    return argument * 2"
   ]
  },
  {
   "cell_type": "code",
   "execution_count": 10,
   "id": "0e17da6a",
   "metadata": {},
   "outputs": [
    {
     "data": {
      "text/plain": [
       "6"
      ]
     },
     "execution_count": 10,
     "metadata": {},
     "output_type": "execute_result"
    }
   ],
   "source": [
    "my_func(3)"
   ]
  },
  {
   "cell_type": "code",
   "execution_count": 11,
   "id": "0166ff46",
   "metadata": {},
   "outputs": [],
   "source": [
    "# Lambda Expressions"
   ]
  },
  {
   "cell_type": "code",
   "execution_count": 19,
   "id": "c294d4e3",
   "metadata": {},
   "outputs": [],
   "source": [
    "def times_two(var = 2):\n",
    "    return var*2"
   ]
  },
  {
   "cell_type": "raw",
   "id": "cc119960",
   "metadata": {},
   "source": []
  },
  {
   "cell_type": "code",
   "execution_count": null,
   "id": "3bd9a0d0",
   "metadata": {},
   "outputs": [],
   "source": [
    "lambda var: var*2"
   ]
  },
  {
   "cell_type": "code",
   "execution_count": 15,
   "id": "a5f68306",
   "metadata": {
    "scrolled": true
   },
   "outputs": [],
   "source": [
    "seq = [1,2,3,4,5]"
   ]
  },
  {
   "cell_type": "code",
   "execution_count": null,
   "id": "a5bc9549",
   "metadata": {},
   "outputs": [],
   "source": []
  },
  {
   "cell_type": "markdown",
   "id": "23be3eb2",
   "metadata": {},
   "source": [
    "list(map(times_two,seq))"
   ]
  },
  {
   "cell_type": "code",
   "execution_count": 20,
   "id": "4477ef50",
   "metadata": {},
   "outputs": [
    {
     "data": {
      "text/plain": [
       "[2, 4, 6, 8, 10]"
      ]
     },
     "execution_count": 20,
     "metadata": {},
     "output_type": "execute_result"
    }
   ],
   "source": [
    "list(map(times_two,seq))"
   ]
  },
  {
   "cell_type": "code",
   "execution_count": 23,
   "id": "338dc770",
   "metadata": {},
   "outputs": [
    {
     "data": {
      "text/plain": [
       "[2, 4, 6, 8, 10]"
      ]
     },
     "execution_count": 23,
     "metadata": {},
     "output_type": "execute_result"
    }
   ],
   "source": [
    "list(map(lambda n:n*2,seq))"
   ]
  },
  {
   "cell_type": "code",
   "execution_count": 24,
   "id": "fc0d6baf",
   "metadata": {},
   "outputs": [],
   "source": [
    "def is_even(num):\n",
    "    return num%2 == 0"
   ]
  },
  {
   "cell_type": "code",
   "execution_count": 25,
   "id": "4e476e29",
   "metadata": {},
   "outputs": [
    {
     "data": {
      "text/plain": [
       "False"
      ]
     },
     "execution_count": 25,
     "metadata": {},
     "output_type": "execute_result"
    }
   ],
   "source": [
    "is_even(312315)"
   ]
  },
  {
   "cell_type": "code",
   "execution_count": 26,
   "id": "034e585b",
   "metadata": {},
   "outputs": [
    {
     "data": {
      "text/plain": [
       "[False, True, False, True, False]"
      ]
     },
     "execution_count": 26,
     "metadata": {},
     "output_type": "execute_result"
    }
   ],
   "source": [
    "list(map(is_even,seq))"
   ]
  },
  {
   "cell_type": "code",
   "execution_count": 29,
   "id": "6b816b7e",
   "metadata": {},
   "outputs": [
    {
     "data": {
      "text/plain": [
       "[False, True, False, True, False]"
      ]
     },
     "execution_count": 29,
     "metadata": {},
     "output_type": "execute_result"
    }
   ],
   "source": [
    "list(map(lambda var:var%2 == 0,seq))"
   ]
  },
  {
   "cell_type": "code",
   "execution_count": null,
   "id": "a5b8aca3",
   "metadata": {},
   "outputs": [],
   "source": []
  }
 ],
 "metadata": {
  "kernelspec": {
   "display_name": "Python 3 (ipykernel)",
   "language": "python",
   "name": "python3"
  },
  "language_info": {
   "codemirror_mode": {
    "name": "ipython",
    "version": 3
   },
   "file_extension": ".py",
   "mimetype": "text/x-python",
   "name": "python",
   "nbconvert_exporter": "python",
   "pygments_lexer": "ipython3",
   "version": "3.9.7"
  }
 },
 "nbformat": 4,
 "nbformat_minor": 5
}
