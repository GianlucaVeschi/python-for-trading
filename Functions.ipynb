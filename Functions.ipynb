{
 "cells": [
  {
   "cell_type": "code",
   "execution_count": 1,
   "id": "b6185176",
   "metadata": {},
   "outputs": [],
   "source": [
    "# Functions"
   ]
  },
  {
   "cell_type": "code",
   "execution_count": 3,
   "id": "e867ab22",
   "metadata": {},
   "outputs": [],
   "source": [
    "def my_func():\n",
    "    print(\"hello\")"
   ]
  },
  {
   "cell_type": "code",
   "execution_count": 4,
   "id": "ed321710",
   "metadata": {},
   "outputs": [
    {
     "name": "stdout",
     "output_type": "stream",
     "text": [
      "hello\n"
     ]
    }
   ],
   "source": [
    "my_func()"
   ]
  },
  {
   "cell_type": "code",
   "execution_count": 5,
   "id": "dae2a99e",
   "metadata": {},
   "outputs": [],
   "source": [
    "def my_func(param):\n",
    "    print(\"hello {}\".format(param))"
   ]
  },
  {
   "cell_type": "code",
   "execution_count": 6,
   "id": "b2686765",
   "metadata": {},
   "outputs": [
    {
     "name": "stdout",
     "output_type": "stream",
     "text": [
      "hello gianluca\n"
     ]
    }
   ],
   "source": [
    "my_func(\"gianluca\")"
   ]
  },
  {
   "cell_type": "code",
   "execution_count": 7,
   "id": "118ba448",
   "metadata": {},
   "outputs": [],
   "source": [
    "def my_func(param = \"default\"):\n",
    "    print(\"hello {}\".format(param))"
   ]
  },
  {
   "cell_type": "code",
   "execution_count": 8,
   "id": "0038d3c4",
   "metadata": {},
   "outputs": [
    {
     "name": "stdout",
     "output_type": "stream",
     "text": [
      "hello default\n"
     ]
    }
   ],
   "source": [
    "my_func()\n"
   ]
  },
  {
   "cell_type": "code",
   "execution_count": 9,
   "id": "cc8e67a1",
   "metadata": {},
   "outputs": [],
   "source": [
    "def my_func(argument):\n",
    "    return argument * 2"
   ]
  },
  {
   "cell_type": "code",
   "execution_count": 10,
   "id": "22f2049e",
   "metadata": {},
   "outputs": [
    {
     "data": {
      "text/plain": [
       "6"
      ]
     },
     "execution_count": 10,
     "metadata": {},
     "output_type": "execute_result"
    }
   ],
   "source": [
    "my_func(3)"
   ]
  },
  {
   "cell_type": "code",
   "execution_count": 11,
   "id": "875b99b0",
   "metadata": {},
   "outputs": [],
   "source": [
    "# Lambda Expressions"
   ]
  },
  {
   "cell_type": "code",
   "execution_count": 19,
   "id": "45cc4385",
   "metadata": {},
   "outputs": [],
   "source": [
    "def times_two(var = 2):\n",
    "    return var*2"
   ]
  },
  {
   "cell_type": "raw",
   "id": "937791dc",
   "metadata": {},
   "source": []
  },
  {
   "cell_type": "code",
   "execution_count": null,
   "id": "908043b9",
   "metadata": {},
   "outputs": [],
   "source": [
    "lambda var: var*2"
   ]
  },
  {
   "cell_type": "code",
   "execution_count": 15,
   "id": "e98b9165",
   "metadata": {
    "scrolled": true
   },
   "outputs": [],
   "source": [
    "seq = [1,2,3,4,5]"
   ]
  },
  {
   "cell_type": "code",
   "execution_count": null,
   "id": "43e39b91",
   "metadata": {},
   "outputs": [],
   "source": []
  },
  {
   "cell_type": "markdown",
   "id": "cf178a80",
   "metadata": {},
   "source": [
    "list(map(times_two,seq))"
   ]
  },
  {
   "cell_type": "code",
   "execution_count": 20,
   "id": "547258c1",
   "metadata": {},
   "outputs": [
    {
     "data": {
      "text/plain": [
       "[2, 4, 6, 8, 10]"
      ]
     },
     "execution_count": 20,
     "metadata": {},
     "output_type": "execute_result"
    }
   ],
   "source": [
    "list(map(times_two,seq))"
   ]
  },
  {
   "cell_type": "code",
   "execution_count": 23,
   "id": "8ae115fd",
   "metadata": {},
   "outputs": [
    {
     "data": {
      "text/plain": [
       "[2, 4, 6, 8, 10]"
      ]
     },
     "execution_count": 23,
     "metadata": {},
     "output_type": "execute_result"
    }
   ],
   "source": [
    "list(map(lambda n:n*2,seq))"
   ]
  },
  {
   "cell_type": "code",
   "execution_count": 24,
   "id": "803adb0d",
   "metadata": {},
   "outputs": [],
   "source": [
    "def is_even(num):\n",
    "    return num%2 == 0"
   ]
  },
  {
   "cell_type": "code",
   "execution_count": 25,
   "id": "6bca59ef",
   "metadata": {},
   "outputs": [
    {
     "data": {
      "text/plain": [
       "False"
      ]
     },
     "execution_count": 25,
     "metadata": {},
     "output_type": "execute_result"
    }
   ],
   "source": [
    "is_even(312315)"
   ]
  },
  {
   "cell_type": "code",
   "execution_count": 26,
   "id": "11000c74",
   "metadata": {},
   "outputs": [
    {
     "data": {
      "text/plain": [
       "[False, True, False, True, False]"
      ]
     },
     "execution_count": 26,
     "metadata": {},
     "output_type": "execute_result"
    }
   ],
   "source": [
    "list(map(is_even,seq))"
   ]
  },
  {
   "cell_type": "code",
   "execution_count": 29,
   "id": "7c3dc9b3",
   "metadata": {},
   "outputs": [
    {
     "data": {
      "text/plain": [
       "[False, True, False, True, False]"
      ]
     },
     "execution_count": 29,
     "metadata": {},
     "output_type": "execute_result"
    }
   ],
   "source": [
    "list(map(lambda var:var%2 == 0,seq))"
   ]
  },
  {
   "cell_type": "code",
   "execution_count": 30,
   "id": "e083672a",
   "metadata": {},
   "outputs": [],
   "source": [
    "# Methods"
   ]
  },
  {
   "cell_type": "code",
   "execution_count": 31,
   "id": "bed280be",
   "metadata": {},
   "outputs": [],
   "source": [
    "st = \"Hello my name is Gianluca\""
   ]
  },
  {
   "cell_type": "code",
   "execution_count": 32,
   "id": "e64c151d",
   "metadata": {},
   "outputs": [
    {
     "data": {
      "text/plain": [
       "'hello my name is gianluca'"
      ]
     },
     "execution_count": 32,
     "metadata": {},
     "output_type": "execute_result"
    }
   ],
   "source": [
    "st.lower()"
   ]
  },
  {
   "cell_type": "code",
   "execution_count": 34,
   "id": "67b31cd9",
   "metadata": {},
   "outputs": [
    {
     "data": {
      "text/plain": [
       "'HELLO MY NAME IS GIANLUCA'"
      ]
     },
     "execution_count": 34,
     "metadata": {},
     "output_type": "execute_result"
    }
   ],
   "source": [
    "st.upper()"
   ]
  },
  {
   "cell_type": "code",
   "execution_count": null,
   "id": "b1cad6c0",
   "metadata": {},
   "outputs": [],
   "source": []
  }
 ],
 "metadata": {
  "kernelspec": {
   "display_name": "Python 3 (ipykernel)",
   "language": "python",
   "name": "python3"
  },
  "language_info": {
   "codemirror_mode": {
    "name": "ipython",
    "version": 3
   },
   "file_extension": ".py",
   "mimetype": "text/x-python",
   "name": "python",
   "nbconvert_exporter": "python",
   "pygments_lexer": "ipython3",
   "version": "3.9.7"
  }
 },
 "nbformat": 4,
 "nbformat_minor": 5
}
