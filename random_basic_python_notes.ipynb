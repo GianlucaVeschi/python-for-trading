{
 "cells": [
  {
   "cell_type": "code",
   "execution_count": 1,
   "id": "0f5a44ff",
   "metadata": {},
   "outputs": [
    {
     "data": {
      "text/plain": [
       "4"
      ]
     },
     "execution_count": 1,
     "metadata": {},
     "output_type": "execute_result"
    }
   ],
   "source": [
    "2 + 2"
   ]
  },
  {
   "cell_type": "code",
   "execution_count": 2,
   "id": "ce94d55a",
   "metadata": {},
   "outputs": [
    {
     "name": "stdout",
     "output_type": "stream",
     "text": [
      "2\n"
     ]
    }
   ],
   "source": [
    "print(2)"
   ]
  },
  {
   "cell_type": "code",
   "execution_count": 3,
   "id": "77410a81",
   "metadata": {},
   "outputs": [],
   "source": [
    "x = \"my string\""
   ]
  },
  {
   "cell_type": "code",
   "execution_count": 4,
   "id": "1e7be90c",
   "metadata": {},
   "outputs": [
    {
     "name": "stdout",
     "output_type": "stream",
     "text": [
      "9\n"
     ]
    }
   ],
   "source": [
    "print(len(x))"
   ]
  },
  {
   "cell_type": "code",
   "execution_count": 23,
   "id": "0b95d4e6",
   "metadata": {},
   "outputs": [
    {
     "data": {
      "text/plain": [
       "[1, 2, 3]"
      ]
     },
     "execution_count": 23,
     "metadata": {},
     "output_type": "execute_result"
    }
   ],
   "source": [
    "# LISTS are mutable\n",
    "[1,2,3]"
   ]
  },
  {
   "cell_type": "code",
   "execution_count": 6,
   "id": "06ed64f1",
   "metadata": {},
   "outputs": [
    {
     "data": {
      "text/plain": [
       "['hi', 1, 2]"
      ]
     },
     "execution_count": 6,
     "metadata": {},
     "output_type": "execute_result"
    }
   ],
   "source": [
    "[\"hi\", 1 , 2]"
   ]
  },
  {
   "cell_type": "code",
   "execution_count": 7,
   "id": "3eaa74a6",
   "metadata": {},
   "outputs": [],
   "source": [
    "my_list = [1,2,1,2,1,444,\"hello\"]"
   ]
  },
  {
   "cell_type": "code",
   "execution_count": 8,
   "id": "a9da037b",
   "metadata": {},
   "outputs": [
    {
     "name": "stdout",
     "output_type": "stream",
     "text": [
      "[1, 2, 1, 2, 1, 444, 'hello']\n"
     ]
    }
   ],
   "source": [
    "print(my_list)"
   ]
  },
  {
   "cell_type": "code",
   "execution_count": 9,
   "id": "274844c7",
   "metadata": {},
   "outputs": [
    {
     "name": "stdout",
     "output_type": "stream",
     "text": [
      "1\n"
     ]
    }
   ],
   "source": [
    "print(my_list[0])"
   ]
  },
  {
   "cell_type": "code",
   "execution_count": 14,
   "id": "163350ab",
   "metadata": {},
   "outputs": [],
   "source": [
    "list_of_letters = [\"a\",\"b\",\"c\",\"d\"]"
   ]
  },
  {
   "cell_type": "code",
   "execution_count": 15,
   "id": "0d37e6c2",
   "metadata": {},
   "outputs": [],
   "source": [
    "# DICTIONARIES have different properties from lists, they operate like an key-value pair."
   ]
  },
  {
   "cell_type": "code",
   "execution_count": 18,
   "id": "9a33188e",
   "metadata": {},
   "outputs": [],
   "source": [
    "d = {\"key\":10,\"key2\":\"seconditem\"}"
   ]
  },
  {
   "cell_type": "code",
   "execution_count": 22,
   "id": "aa118c35",
   "metadata": {},
   "outputs": [],
   "source": [
    "# TUPLES are similar to lists but they use parenthes () but IT IS IMMUTABLE"
   ]
  },
  {
   "cell_type": "code",
   "execution_count": 21,
   "id": "3056fc69",
   "metadata": {},
   "outputs": [],
   "source": [
    "t = (1,2,3,4)"
   ]
  },
  {
   "cell_type": "code",
   "execution_count": 25,
   "id": "803f3c7d",
   "metadata": {},
   "outputs": [],
   "source": [
    "my_list[0] = \"new value\""
   ]
  },
  {
   "cell_type": "code",
   "execution_count": 32,
   "id": "fb3fc62d",
   "metadata": {},
   "outputs": [
    {
     "ename": "TypeError",
     "evalue": "'tuple' object does not support item assignment",
     "output_type": "error",
     "traceback": [
      "\u001b[0;31m---------------------------------------------------------------------------\u001b[0m",
      "\u001b[0;31mTypeError\u001b[0m                                 Traceback (most recent call last)",
      "\u001b[0;32m/var/folders/4x/02xzjd6151z0l73jhz_fc0x0lm0bqy/T/ipykernel_5719/2420131077.py\u001b[0m in \u001b[0;36m<module>\u001b[0;34m\u001b[0m\n\u001b[0;32m----> 1\u001b[0;31m \u001b[0mt\u001b[0m\u001b[0;34m[\u001b[0m\u001b[0;36m0\u001b[0m\u001b[0;34m]\u001b[0m \u001b[0;34m=\u001b[0m \u001b[0;34m\"A\"\u001b[0m\u001b[0;34m\u001b[0m\u001b[0;34m\u001b[0m\u001b[0m\n\u001b[0m",
      "\u001b[0;31mTypeError\u001b[0m: 'tuple' object does not support item assignment"
     ]
    }
   ],
   "source": [
    "t[0] = \"A\""
   ]
  },
  {
   "cell_type": "code",
   "execution_count": 35,
   "id": "884c2eca",
   "metadata": {},
   "outputs": [],
   "source": [
    "# SETS are unique values of unorderd, unique items."
   ]
  },
  {
   "cell_type": "code",
   "execution_count": null,
   "id": "e9afa2ff",
   "metadata": {},
   "outputs": [],
   "source": []
  }
 ],
 "metadata": {
  "kernelspec": {
   "display_name": "Python 3 (ipykernel)",
   "language": "python",
   "name": "python3"
  },
  "language_info": {
   "codemirror_mode": {
    "name": "ipython",
    "version": 3
   },
   "file_extension": ".py",
   "mimetype": "text/x-python",
   "name": "python",
   "nbconvert_exporter": "python",
   "pygments_lexer": "ipython3",
   "version": "3.9.7"
  }
 },
 "nbformat": 4,
 "nbformat_minor": 5
}
